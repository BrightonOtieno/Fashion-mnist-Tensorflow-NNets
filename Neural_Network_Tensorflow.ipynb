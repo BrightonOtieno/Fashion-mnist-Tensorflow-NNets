{
  "nbformat": 4,
  "nbformat_minor": 0,
  "metadata": {
    "colab": {
      "name": "Neural Network-Tensorflow.ipynb",
      "provenance": [],
      "authorship_tag": "ABX9TyNAms89XPOv9SU9Es1eWxoN",
      "include_colab_link": true
    },
    "kernelspec": {
      "name": "python3",
      "display_name": "Python 3"
    }
  },
  "cells": [
    {
      "cell_type": "markdown",
      "metadata": {
        "id": "view-in-github",
        "colab_type": "text"
      },
      "source": [
        "<a href=\"https://colab.research.google.com/github/BrightonOtieno/Fashion-mnist-Tensorflow-NNets/blob/master/Neural_Network_Tensorflow.ipynb\" target=\"_parent\"><img src=\"https://colab.research.google.com/assets/colab-badge.svg\" alt=\"Open In Colab\"/></a>"
      ]
    },
    {
      "cell_type": "code",
      "metadata": {
        "id": "G_xb077F9V60",
        "colab_type": "code",
        "colab": {
          "base_uri": "https://localhost:8080/",
          "height": 102
        },
        "outputId": "e94c562b-5bab-40dd-a140-cdcf14e207e8"
      },
      "source": [
        "% tensorflow_version 2.x #needed in the notebook"
      ],
      "execution_count": 94,
      "outputs": [
        {
          "output_type": "stream",
          "text": [
            "`%tensorflow_version` only switches the major version: 1.x or 2.x.\n",
            "You set: `2.x #needed in the notebook`. This will be interpreted as: `2.x`.\n",
            "\n",
            "\n",
            "TensorFlow is already loaded. Please restart the runtime to change versions.\n"
          ],
          "name": "stdout"
        }
      ]
    },
    {
      "cell_type": "code",
      "metadata": {
        "id": "_YvuOePl94fS",
        "colab_type": "code",
        "colab": {}
      },
      "source": [
        "import tensorflow as tf\n",
        "from tensorflow import keras"
      ],
      "execution_count": 1,
      "outputs": []
    },
    {
      "cell_type": "code",
      "metadata": {
        "id": "E1k52oFB9ugS",
        "colab_type": "code",
        "colab": {}
      },
      "source": [
        "import numpy as np\n",
        "import matplotlib.pyplot as plt"
      ],
      "execution_count": 2,
      "outputs": []
    },
    {
      "cell_type": "markdown",
      "metadata": {
        "id": "JO9g1AG5-P_g",
        "colab_type": "text"
      },
      "source": [
        "# fashion Mnist DataSet"
      ]
    },
    {
      "cell_type": "code",
      "metadata": {
        "id": "uuWa9f6i-OU_",
        "colab_type": "code",
        "colab": {}
      },
      "source": [
        "fashion_mnist = keras.datasets.fashion_mnist\n",
        "(train_images,train_labels),(test_images,test_labels) = fashion_mnist.load_data()"
      ],
      "execution_count": 3,
      "outputs": []
    },
    {
      "cell_type": "code",
      "metadata": {
        "id": "E_EBB5uk-1iw",
        "colab_type": "code",
        "colab": {
          "base_uri": "https://localhost:8080/",
          "height": 34
        },
        "outputId": "0327644b-c570-4463-9f5d-9db4850f341a"
      },
      "source": [
        "train_images.shape"
      ],
      "execution_count": 4,
      "outputs": [
        {
          "output_type": "execute_result",
          "data": {
            "text/plain": [
              "(60000, 28, 28)"
            ]
          },
          "metadata": {
            "tags": []
          },
          "execution_count": 4
        }
      ]
    },
    {
      "cell_type": "code",
      "metadata": {
        "id": "Uuq37UGnHIpp",
        "colab_type": "code",
        "colab": {
          "base_uri": "https://localhost:8080/",
          "height": 34
        },
        "outputId": "9e2d1e1f-50e0-44b5-fe02-5d36b70c4cea"
      },
      "source": [
        "type(train_images)"
      ],
      "execution_count": 5,
      "outputs": [
        {
          "output_type": "execute_result",
          "data": {
            "text/plain": [
              "numpy.ndarray"
            ]
          },
          "metadata": {
            "tags": []
          },
          "execution_count": 5
        }
      ]
    },
    {
      "cell_type": "markdown",
      "metadata": {
        "id": "teLkhjLMF70L",
        "colab_type": "text"
      },
      "source": [
        "## 60,000 images each 28 by 28 pixels meaning (784px) in total for a single image"
      ]
    },
    {
      "cell_type": "markdown",
      "metadata": {
        "id": "Z_ziVayXGteA",
        "colab_type": "text"
      },
      "source": [
        "### Take a look at image of index 0 and grab one of its pixel\n",
        "#### Pixels are arranged in rows and columns\n",
        "#### 28 rows and 28 columns"
      ]
    },
    {
      "cell_type": "code",
      "metadata": {
        "id": "XxJG3QyY-4qp",
        "colab_type": "code",
        "colab": {
          "base_uri": "https://localhost:8080/",
          "height": 34
        },
        "outputId": "37aad095-cd28-4d07-8aee-8984439feeeb"
      },
      "source": [
        "train_images[0,23,23]"
      ],
      "execution_count": 6,
      "outputs": [
        {
          "output_type": "execute_result",
          "data": {
            "text/plain": [
              "194"
            ]
          },
          "metadata": {
            "tags": []
          },
          "execution_count": 6
        }
      ]
    },
    {
      "cell_type": "markdown",
      "metadata": {
        "id": "wGEl4-UlH-Xy",
        "colab_type": "text"
      },
      "source": [
        "### The entire Train Dataset"
      ]
    },
    {
      "cell_type": "code",
      "metadata": {
        "id": "8F04R-F2HSDN",
        "colab_type": "code",
        "colab": {
          "base_uri": "https://localhost:8080/",
          "height": 850
        },
        "outputId": "23b35a5b-1e6e-4c90-8c9d-a283d48d6027"
      },
      "source": [
        "print(train_images)"
      ],
      "execution_count": 7,
      "outputs": [
        {
          "output_type": "stream",
          "text": [
            "[[[0 0 0 ... 0 0 0]\n",
            "  [0 0 0 ... 0 0 0]\n",
            "  [0 0 0 ... 0 0 0]\n",
            "  ...\n",
            "  [0 0 0 ... 0 0 0]\n",
            "  [0 0 0 ... 0 0 0]\n",
            "  [0 0 0 ... 0 0 0]]\n",
            "\n",
            " [[0 0 0 ... 0 0 0]\n",
            "  [0 0 0 ... 0 0 0]\n",
            "  [0 0 0 ... 0 0 0]\n",
            "  ...\n",
            "  [0 0 0 ... 0 0 0]\n",
            "  [0 0 0 ... 0 0 0]\n",
            "  [0 0 0 ... 0 0 0]]\n",
            "\n",
            " [[0 0 0 ... 0 0 0]\n",
            "  [0 0 0 ... 0 0 0]\n",
            "  [0 0 0 ... 0 0 0]\n",
            "  ...\n",
            "  [0 0 0 ... 0 0 0]\n",
            "  [0 0 0 ... 0 0 0]\n",
            "  [0 0 0 ... 0 0 0]]\n",
            "\n",
            " ...\n",
            "\n",
            " [[0 0 0 ... 0 0 0]\n",
            "  [0 0 0 ... 0 0 0]\n",
            "  [0 0 0 ... 0 0 0]\n",
            "  ...\n",
            "  [0 0 0 ... 0 0 0]\n",
            "  [0 0 0 ... 0 0 0]\n",
            "  [0 0 0 ... 0 0 0]]\n",
            "\n",
            " [[0 0 0 ... 0 0 0]\n",
            "  [0 0 0 ... 0 0 0]\n",
            "  [0 0 0 ... 0 0 0]\n",
            "  ...\n",
            "  [0 0 0 ... 0 0 0]\n",
            "  [0 0 0 ... 0 0 0]\n",
            "  [0 0 0 ... 0 0 0]]\n",
            "\n",
            " [[0 0 0 ... 0 0 0]\n",
            "  [0 0 0 ... 0 0 0]\n",
            "  [0 0 0 ... 0 0 0]\n",
            "  ...\n",
            "  [0 0 0 ... 0 0 0]\n",
            "  [0 0 0 ... 0 0 0]\n",
            "  [0 0 0 ... 0 0 0]]]\n"
          ],
          "name": "stdout"
        }
      ]
    },
    {
      "cell_type": "code",
      "metadata": {
        "id": "OhGTwplQIEjN",
        "colab_type": "code",
        "colab": {
          "base_uri": "https://localhost:8080/",
          "height": 34
        },
        "outputId": "c212655a-973d-4688-816a-2159787f5cf6"
      },
      "source": [
        "train_labels[:10]"
      ],
      "execution_count": 8,
      "outputs": [
        {
          "output_type": "execute_result",
          "data": {
            "text/plain": [
              "array([9, 0, 0, 3, 0, 2, 7, 2, 5, 5], dtype=uint8)"
            ]
          },
          "metadata": {
            "tags": []
          },
          "execution_count": 8
        }
      ]
    },
    {
      "cell_type": "code",
      "metadata": {
        "id": "ISqTe8VfJ3Xu",
        "colab_type": "code",
        "colab": {}
      },
      "source": [
        "class_names =[\n",
        "              'T-shirt/top',\n",
        "              'Trouser',\n",
        "              'Pullover',\n",
        "              'Dress',\n",
        "              'Coat',\n",
        "              'Sandal',\n",
        "              'Shirt',\n",
        "              'Sneaker',\n",
        "              'Bag',\n",
        "              'Ankle boot'\n",
        "]"
      ],
      "execution_count": 9,
      "outputs": []
    },
    {
      "cell_type": "code",
      "metadata": {
        "id": "hAN4Hkb2MyOG",
        "colab_type": "code",
        "colab": {}
      },
      "source": [
        "def showImage(imageIndex):\n",
        "    plt.figure()\n",
        "    plt.imshow(train_images[imageIndex])\n",
        "    plt.colorbar()\n",
        "    #plt.grid(False)\n",
        "    plt.show()\n",
        "\n"
      ],
      "execution_count": 10,
      "outputs": []
    },
    {
      "cell_type": "code",
      "metadata": {
        "id": "fsUFx7zfNG3D",
        "colab_type": "code",
        "colab": {
          "base_uri": "https://localhost:8080/",
          "height": 265
        },
        "outputId": "3bf2cc99-9094-4913-b8ff-e18d9c77d3bd"
      },
      "source": [
        "showImage(100)"
      ],
      "execution_count": 11,
      "outputs": [
        {
          "output_type": "display_data",
          "data": {
            "image/png": "[encoded data removed]",
            "text/plain": [
              "<Figure size 432x288 with 2 Axes>"
            ]
          },
          "metadata": {
            "tags": [],
            "needs_background": "light"
          }
        }
      ]
    },
    {
      "cell_type": "code",
      "metadata": {
        "id": "XL3VOVQOPQls",
        "colab_type": "code",
        "colab": {
          "base_uri": "https://localhost:8080/",
          "height": 265
        },
        "outputId": "56e98216-5927-4792-f651-e58916b196c5"
      },
      "source": [
        " showImage(6)"
      ],
      "execution_count": 12,
      "outputs": [
        {
          "output_type": "display_data",
          "data": {
            "image/png": "[encoded data removed]",
            "text/plain": [
              "<Figure size 432x288 with 2 Axes>"
            ]
          },
          "metadata": {
            "tags": [],
            "needs_background": "light"
          }
        }
      ]
    },
    {
      "cell_type": "markdown",
      "metadata": {
        "id": "qzzqh4G3UNQW",
        "colab_type": "text"
      },
      "source": [
        "# Data preprocessing \n",
        "## scale down the grayscale values (0-255)  to the values between (0-1)"
      ]
    },
    {
      "cell_type": "code",
      "metadata": {
        "id": "q5McSdIpPwXg",
        "colab_type": "code",
        "colab": {}
      },
      "source": [
        "train_images = train_images/255.0\n",
        "test_images = test_images/255.0"
      ],
      "execution_count": 13,
      "outputs": []
    },
    {
      "cell_type": "markdown",
      "metadata": {
        "id": "jBmAcW8VfHGT",
        "colab_type": "text"
      },
      "source": [
        "# Defining Model  Architecture\n",
        "* layers \n",
        "* number  of neurons,\n",
        "* connections,activation functions for ( hidden and Output)layers"
      ]
    },
    {
      "cell_type": "code",
      "metadata": {
        "id": "KAYLZhtwbG0I",
        "colab_type": "code",
        "colab": {}
      },
      "source": [
        "model = keras.Sequential([\n",
        "                          keras.layers.Flatten(input_shape=(28,28)),\n",
        "                          keras.layers.Dense(128,activation='relu'),\n",
        "                          keras.layers.Dense(10,activation='softmax')\n",
        "])"
      ],
      "execution_count": 14,
      "outputs": []
    },
    {
      "cell_type": "markdown",
      "metadata": {
        "id": "vvyi4mBcfN_X",
        "colab_type": "text"
      },
      "source": [
        "# Compile Model\n",
        "## Defining other parameters\n",
        "* optimizer\n",
        "* loss function\n",
        "* metrics for measuring the performance"
      ]
    },
    {
      "cell_type": "code",
      "metadata": {
        "id": "DXwOO7fqfQxt",
        "colab_type": "code",
        "colab": {}
      },
      "source": [
        "model.compile(\n",
        "    optimizer='adam',\n",
        "    loss='sparse_categorical_crossentropy',\n",
        "    metrics=['accuracy']\n",
        ")"
      ],
      "execution_count": 17,
      "outputs": []
    },
    {
      "cell_type": "markdown",
      "metadata": {
        "id": "4Y6HSOPxhfA5",
        "colab_type": "text"
      },
      "source": [
        "# Actual Training"
      ]
    },
    {
      "cell_type": "code",
      "metadata": {
        "id": "VPVK8wzmhdq1",
        "colab_type": "code",
        "colab": {
          "base_uri": "https://localhost:8080/",
          "height": 374
        },
        "outputId": "d6b52be5-9f39-4421-d342-56b1f35b676f"
      },
      "source": [
        "model.fit(train_images,train_labels,epochs=10) # epochs is also a hyperParameter"
      ],
      "execution_count": 18,
      "outputs": [
        {
          "output_type": "stream",
          "text": [
            "Epoch 1/10\n",
            "1875/1875 [==============================] - 3s 2ms/step - loss: 0.5010 - accuracy: 0.8255\n",
            "Epoch 2/10\n",
            "1875/1875 [==============================] - 3s 2ms/step - loss: 0.3754 - accuracy: 0.8652\n",
            "Epoch 3/10\n",
            "1875/1875 [==============================] - 4s 2ms/step - loss: 0.3365 - accuracy: 0.8783\n",
            "Epoch 4/10\n",
            "1875/1875 [==============================] - 3s 2ms/step - loss: 0.3135 - accuracy: 0.8853\n",
            "Epoch 5/10\n",
            "1875/1875 [==============================] - 3s 2ms/step - loss: 0.2955 - accuracy: 0.8915\n",
            "Epoch 6/10\n",
            "1875/1875 [==============================] - 3s 2ms/step - loss: 0.2810 - accuracy: 0.8970\n",
            "Epoch 7/10\n",
            "1875/1875 [==============================] - 3s 2ms/step - loss: 0.2685 - accuracy: 0.9008\n",
            "Epoch 8/10\n",
            "1875/1875 [==============================] - 3s 2ms/step - loss: 0.2564 - accuracy: 0.9042\n",
            "Epoch 9/10\n",
            "1875/1875 [==============================] - 3s 2ms/step - loss: 0.2477 - accuracy: 0.9072\n",
            "Epoch 10/10\n",
            "1875/1875 [==============================] - 3s 2ms/step - loss: 0.2393 - accuracy: 0.9089\n"
          ],
          "name": "stdout"
        },
        {
          "output_type": "execute_result",
          "data": {
            "text/plain": [
              "<tensorflow.python.keras.callbacks.History at 0x7f921c303a90>"
            ]
          },
          "metadata": {
            "tags": []
          },
          "execution_count": 18
        }
      ]
    },
    {
      "cell_type": "markdown",
      "metadata": {
        "id": "UId0dLfImK8m",
        "colab_type": "text"
      },
      "source": [
        ""
      ]
    },
    {
      "cell_type": "markdown",
      "metadata": {
        "id": "1YJOVc0DsPjE",
        "colab_type": "text"
      },
      "source": [
        "# Prediction\n",
        "---\n",
        "# Always comes BEFORE ACCUCACY TESTING"
      ]
    },
    {
      "cell_type": "code",
      "metadata": {
        "id": "qhWRCGvsttT_",
        "colab_type": "code",
        "colab": {
          "base_uri": "https://localhost:8080/",
          "height": 34
        },
        "outputId": "80c533f3-787d-492f-f37f-3834ccabf094"
      },
      "source": [
        "print(test_images.shape) # 10,000 images each of 28 by 28 px"
      ],
      "execution_count": 19,
      "outputs": [
        {
          "output_type": "stream",
          "text": [
            "(10000, 28, 28)\n"
          ],
          "name": "stdout"
        }
      ]
    },
    {
      "cell_type": "code",
      "metadata": {
        "id": "5SUbAHpjoEwP",
        "colab_type": "code",
        "colab": {}
      },
      "source": [
        "predictions = model.predict(test_images)\n"
      ],
      "execution_count": 20,
      "outputs": []
    },
    {
      "cell_type": "code",
      "metadata": {
        "id": "m8XNZ7QktTOh",
        "colab_type": "code",
        "colab": {
          "base_uri": "https://localhost:8080/",
          "height": 238
        },
        "outputId": "dcf05b41-b6e7-43a6-9b2a-93d0e82f5879"
      },
      "source": [
        "print(predictions)"
      ],
      "execution_count": 21,
      "outputs": [
        {
          "output_type": "stream",
          "text": [
            "[[4.51745478e-07 2.11520142e-11 2.95196957e-11 ... 4.02837098e-02\n",
            "  2.10224059e-07 9.55050230e-01]\n",
            " [4.90293351e-05 1.25605576e-14 9.99685407e-01 ... 9.77617883e-20\n",
            "  2.90198698e-11 4.45731071e-18]\n",
            " [3.55360719e-08 1.00000000e+00 4.66500233e-12 ... 1.34647608e-27\n",
            "  3.13885799e-13 1.88567686e-19]\n",
            " ...\n",
            " [1.57703892e-06 5.85457793e-10 5.45769979e-07 ... 8.34705013e-11\n",
            "  9.99944568e-01 4.46923271e-12]\n",
            " [1.15090259e-07 9.99994636e-01 2.96279529e-10 ... 3.24267660e-20\n",
            "  6.27725996e-11 1.13178496e-13]\n",
            " [1.06851767e-05 6.57520616e-09 5.58379782e-07 ... 1.46011310e-03\n",
            "  2.05785454e-05 2.85649912e-06]]\n"
          ],
          "name": "stdout"
        }
      ]
    },
    {
      "cell_type": "code",
      "metadata": {
        "id": "aR12pTMktV2D",
        "colab_type": "code",
        "colab": {
          "base_uri": "https://localhost:8080/",
          "height": 68
        },
        "outputId": "ad06a124-b7ca-4bf9-d4a5-a13914aa085f"
      },
      "source": [
        "# Get first prediction(at index 0)\n",
        "predictions[0]"
      ],
      "execution_count": 22,
      "outputs": [
        {
          "output_type": "execute_result",
          "data": {
            "text/plain": [
              "array([4.51745478e-07, 2.11520142e-11, 2.95196957e-11, 1.35905315e-11,\n",
              "       1.33945317e-08, 4.66534169e-03, 6.18103257e-09, 4.02837098e-02,\n",
              "       2.10224059e-07, 9.55050230e-01], dtype=float32)"
            ]
          },
          "metadata": {
            "tags": []
          },
          "execution_count": 22
        }
      ]
    },
    {
      "cell_type": "markdown",
      "metadata": {
        "id": "x9thLD8ew7ay",
        "colab_type": "text"
      },
      "source": [
        "# Returns A list of probability distribution\n",
        "## Probability / likelyhood of the (input) being \n",
        "* a:\n",
        "              'T-shirt/top',\n",
        "\n",
        "              'Trouser',\n",
        "              'Pullover',\n",
        "              'Dress',\n",
        "              'Coat',\n",
        "              'Sandal',\n",
        "              'Shirt',\n",
        "              'Sneaker',\n",
        "              'Bag',\n",
        "              'Ankle boot'  \n",
        "\n",
        "* info from all the 10 output neurons\n",
        "* Probability is spread around those neurons such that they sum up to 1"
      ]
    },
    {
      "cell_type": "markdown",
      "metadata": {
        "id": "At952oHJyJoM",
        "colab_type": "text"
      },
      "source": [
        "---\n",
        "## Gett the INDEX of the  highest  Probability \n",
        "* using **np.argmax()** function\n",
        "---"
      ]
    },
    {
      "cell_type": "code",
      "metadata": {
        "id": "I2d03Oc87H1K",
        "colab_type": "code",
        "colab": {
          "base_uri": "https://localhost:8080/",
          "height": 68
        },
        "outputId": "5a6d15ec-0fdc-4758-ea6a-039cf3b9a9d9"
      },
      "source": [
        "print(predictions[0])"
      ],
      "execution_count": 23,
      "outputs": [
        {
          "output_type": "stream",
          "text": [
            "[4.51745478e-07 2.11520142e-11 2.95196957e-11 1.35905315e-11\n",
            " 1.33945317e-08 4.66534169e-03 6.18103257e-09 4.02837098e-02\n",
            " 2.10224059e-07 9.55050230e-01]\n"
          ],
          "name": "stdout"
        }
      ]
    },
    {
      "cell_type": "code",
      "metadata": {
        "id": "l6bEN2kUuJmP",
        "colab_type": "code",
        "colab": {
          "base_uri": "https://localhost:8080/",
          "height": 34
        },
        "outputId": "1e34ffbd-20c5-46fa-c3c8-213af96aa036"
      },
      "source": [
        "print(np.argmax(predictions[0]))"
      ],
      "execution_count": 24,
      "outputs": [
        {
          "output_type": "stream",
          "text": [
            "9\n"
          ],
          "name": "stdout"
        }
      ]
    },
    {
      "cell_type": "markdown",
      "metadata": {
        "id": "CNBYPdL8zsRK",
        "colab_type": "text"
      },
      "source": [
        "# Use retuned Index to Grab its class name"
      ]
    },
    {
      "cell_type": "code",
      "metadata": {
        "id": "HcNgK7KVyn-W",
        "colab_type": "code",
        "colab": {}
      },
      "source": [
        "\n",
        "def ShowPredictedImage(predictionIndex):\n",
        "    predictions = model.predict(test_images)\n",
        "    prediction= predictions[predictionIndex] # gets a (single prediction)) from Predictions array\n",
        "    print(prediction)\n",
        "    print('------------------')\n",
        "    predicted_class_index = np.argmax(prediction) # returns the (index) for the Predicted Class\n",
        "    print(predicted_class_index)\n",
        "    print('------------------')\n",
        "\n",
        "    print(class_names[predicted_class_index]) # Gets the (Actual Class Name using the index)\n",
        "    print('------------------')\n",
        "    classIndex = predictionIndex\n",
        "    plt.figure()\n",
        "    plt.imshow(test_images[classIndex])\n",
        "    plt.colorbar()\n",
        "    #plt.grid(False)\n",
        "    plt.show()\n",
        "\n",
        "\n"
      ],
      "execution_count": 31,
      "outputs": []
    },
    {
      "cell_type": "markdown",
      "metadata": {
        "id": "Ov98jFiFGUsd",
        "colab_type": "text"
      },
      "source": [
        "# Pick any index between (0-9)"
      ]
    },
    {
      "cell_type": "code",
      "metadata": {
        "id": "V-wiOTV7GTFm",
        "colab_type": "code",
        "colab": {
          "base_uri": "https://localhost:8080/",
          "height": 388
        },
        "outputId": "5150138b-0362-4cc7-b674-4b1b0c8f93c5"
      },
      "source": [
        "ShowPredictedImage(20)"
      ],
      "execution_count": 43,
      "outputs": [
        {
          "output_type": "stream",
          "text": [
            "[2.4635815e-03 1.8051246e-04 9.6571988e-01 3.9753851e-07 3.0782863e-02\n",
            " 1.2575573e-09 7.2532461e-04 4.9592520e-05 7.7952456e-05 7.2970070e-09]\n",
            "------------------\n",
            "2\n",
            "------------------\n",
            "Pullover\n",
            "------------------\n"
          ],
          "name": "stdout"
        },
        {
          "output_type": "display_data",
          "data": {
            "image/png": "[encoded data removed]",
            "text/plain": [
              "<Figure size 432x288 with 2 Axes>"
            ]
          },
          "metadata": {
            "tags": [],
            "needs_background": "light"
          }
        }
      ]
    },
    {
      "cell_type": "markdown",
      "metadata": {
        "id": "WdhnnqpZCVsW",
        "colab_type": "text"
      },
      "source": [
        "# Model Testing and Evaluation"
      ]
    },
    {
      "cell_type": "code",
      "metadata": {
        "id": "jezRX6DD5T18",
        "colab_type": "code",
        "colab": {
          "base_uri": "https://localhost:8080/",
          "height": 51
        },
        "outputId": "45219392-2a2a-4618-eac4-38f3df94fa8d"
      },
      "source": [
        "test_loss , test_acc = model.evaluate(test_images,test_labels,verbose=1)\n",
        "print('test Accuracy of :' ,test_acc)"
      ],
      "execution_count": 26,
      "outputs": [
        {
          "output_type": "stream",
          "text": [
            "313/313 [==============================] - 0s 1ms/step - loss: 0.3369 - accuracy: 0.8863\n",
            "test Accuracy of : 0.8863000273704529\n"
          ],
          "name": "stdout"
        }
      ]
    },
    {
      "cell_type": "markdown",
      "metadata": {
        "id": "jQFDzCf1Clyq",
        "colab_type": "text"
      },
      "source": [
        "# 88% Testing Accuracy"
      ]
    },
    {
      "cell_type": "code",
      "metadata": {
        "id": "8Lq5VRJd5VUC",
        "colab_type": "code",
        "colab": {
          "base_uri": "https://localhost:8080/",
          "height": 276
        },
        "outputId": "34c5fcab-3c6c-48be-cc62-23f048861d1e"
      },
      "source": [
        ""
      ],
      "execution_count": 64,
      "outputs": [
        {
          "output_type": "display_data",
          "data": {
            "image/png": "[encoded data removed]",
            "text/plain": [
              "<Figure size 432x288 with 2 Axes>"
            ]
          },
          "metadata": {
            "tags": [],
            "needs_background": "light"
          }
        }
      ]
    },
    {
      "cell_type": "code",
      "metadata": {
        "id": "sPIjw61k630T",
        "colab_type": "code",
        "colab": {}
      },
      "source": [
        ""
      ],
      "execution_count": null,
      "outputs": []
    }
  ]
}